{
 "cells": [
  {
   "cell_type": "markdown",
   "metadata": {},
   "source": [
    "### Standard Libraries\n",
    "- File I/O\n",
    "- Regular Expression\n",
    "- Datetime\n",
    "- Math (numerical and Mathematical)"
   ]
  },
  {
   "cell_type": "markdown",
   "metadata": {},
   "source": [
    "### File Handling in Python\n",
    "- File:= Document containing information on the Permanent storage\n",
    "- Different types of files :- txt,doc,pdf,csv and ect...\n",
    "- Input -- Keyboard\n",
    "- Output -- File\n",
    "### Modes of the File I/O\n",
    "- \"w\" -- This mode is used to file writing\n",
    "      -- if the file is not present first it creates the file and write so me data to it "
   ]
  },
  {
   "cell_type": "code",
   "execution_count": 1,
   "metadata": {},
   "outputs": [
    {
     "name": "stdout",
     "output_type": "stream",
     "text": [
      "File is created and data has written\n"
     ]
    }
   ],
   "source": [
    "# Function to Create a file and write to the file\n",
    "def createFile(filename):\n",
    "    f=open(filename,\"w\")\n",
    "    for i in range(10):\n",
    "        f.write(\"This is %d Line\\n\"%i)\n",
    "    print(\"File is created and data has written\")    \n",
    "    return\n",
    "createFile(\"File1.txt\")"
   ]
  },
  {
   "cell_type": "code",
   "execution_count": 2,
   "metadata": {},
   "outputs": [
    {
     "name": "stdout",
     "output_type": "stream",
     "text": [
      " Volume in drive C has no label.\n",
      " Volume Serial Number is 1005-4EE7\n",
      "\n",
      " Directory of C:\\Users\\mpilab\n",
      "\n",
      "11-07-2019  09:40    <DIR>          .\n",
      "11-07-2019  09:40    <DIR>          ..\n",
      "13-06-2019  13:10    <DIR>          .anaconda\n",
      "05-07-2019  11:08               911 .bash_history\n",
      "11-07-2019  09:42    <DIR>          .conda\n",
      "11-07-2019  09:10                60 .condarc\n",
      "11-07-2019  09:13    <DIR>          .ipynb_checkpoints\n",
      "13-06-2019  13:29    <DIR>          .ipython\n",
      "21-06-2019  14:49    <DIR>          .jupyter\n",
      "13-06-2019  13:03    <DIR>          Anaconda3\n",
      "10-07-2019  15:00             2,316 Assignment day 9.ipynb\n",
      "09-07-2019  10:05             2,148 clone.ipynb\n",
      "27-07-2018  11:03    <DIR>          Contacts\n",
      "08-07-2019  16:02               555 Day 6.ipynb\n",
      "08-07-2019  15:59             4,472 Day 7.ipynb\n",
      "11-07-2019  09:40             1,853 Day-10-(221810401018).ipynb\n",
      "10-07-2019  14:49            16,420 Day-9-(221810401018).ipynb\n",
      "10-07-2019  10:10             6,222 Day-9.ipynb\n",
      "10-07-2019  12:56    <DIR>          Desktop\n",
      "10-07-2019  14:52    <DIR>          Documents\n",
      "10-07-2019  15:49    <DIR>          Downloads\n",
      "27-07-2018  11:03    <DIR>          Favorites\n",
      "11-07-2019  09:40               160 File1.txt\n",
      "27-07-2018  11:03    <DIR>          Links\n",
      "27-07-2018  11:03    <DIR>          Music\n",
      "20-08-2018  11:36    <DIR>          Pictures\n",
      "05-07-2019  15:37             3,553 python1018.ipynb\n",
      "27-07-2018  11:03    <DIR>          Saved Games\n",
      "12-09-2018  11:17    <DIR>          Searches\n",
      "05-07-2019  10:29    <DIR>          tan\n",
      "05-07-2019  12:12             1,246 Untitled.ipynb\n",
      "21-06-2019  14:54             1,099 Untitled1.ipynb\n",
      "05-07-2019  12:17               644 Untitled2.ipynb\n",
      "06-07-2019  11:02               555 Untitled3.ipynb\n",
      "06-07-2019  12:20             3,210 Untitled4.ipynb\n",
      "06-07-2019  12:42               881 Untitled5.ipynb\n",
      "27-07-2018  11:03    <DIR>          Videos\n",
      "              17 File(s)         46,305 bytes\n",
      "              20 Dir(s)  137,991,102,464 bytes free\n"
     ]
    }
   ],
   "source": [
    "ls"
   ]
  },
  {
   "cell_type": "code",
   "execution_count": 1,
   "metadata": {},
   "outputs": [
    {
     "name": "stdout",
     "output_type": "stream",
     "text": [
      "Testing\n",
      "File is created and data has written\n"
     ]
    }
   ],
   "source": [
    "def createFile(filename):\n",
    "    f=open(filename,\"w\")\n",
    "    print(\"Testing\")\n",
    "    print(\"File is created and data has written\")    \n",
    "    return\n",
    "createFile(\"File1.txt\")"
   ]
  },
  {
   "cell_type": "code",
   "execution_count": 2,
   "metadata": {},
   "outputs": [
    {
     "name": "stdout",
     "output_type": "stream",
     "text": [
      "file created and succesfully data written\n"
     ]
    }
   ],
   "source": [
    "def appendData(filename):\n",
    "   f=open(filename,'a')\n",
    "   for i in range(10):\n",
    "       f.write(\"this is %d line\\n\"%i)\n",
    "   print(\"file created and succesfully data written\")\n",
    "   return\n",
    "appendData('file2.txt')"
   ]
  },
  {
   "cell_type": "code",
   "execution_count": 3,
   "metadata": {},
   "outputs": [
    {
     "name": "stdout",
     "output_type": "stream",
     "text": [
      "file created and succesfully data written\n"
     ]
    }
   ],
   "source": [
    "def appendData(filename):\n",
    "   f=open(filename,'a')\n",
    "   f.write(\"new line 1\\n\")\n",
    "   f.write(\"new line 2\\n\")\n",
    "   print(\"file created and succesfully data written\")\n",
    "   return\n",
    "appendData('file2.txt')"
   ]
  },
  {
   "cell_type": "code",
   "execution_count": 8,
   "metadata": {},
   "outputs": [
    {
     "name": "stdout",
     "output_type": "stream",
     "text": [
      "this is 0 line\n",
      "this is 1 line\n",
      "this is 2 line\n",
      "this is 3 line\n",
      "this is 4 line\n",
      "this is 5 line\n",
      "this is 6 line\n",
      "this is 7 line\n",
      "this is 8 line\n",
      "this is 9 line\n",
      "new line 1\n",
      "new line 2\n",
      "\n"
     ]
    }
   ],
   "source": [
    "#functin to read of the file\n",
    "\n",
    "def readFileData(filename):\n",
    "   f=open(filename,'r')\n",
    "   if f.mode=='r':\n",
    "       x=f.read()\n",
    "       print(x)\n",
    "   f.close   \n",
    "   return\n",
    "readFileData('file2.txt')\n"
   ]
  },
  {
   "cell_type": "code",
   "execution_count": 13,
   "metadata": {},
   "outputs": [
    {
     "name": "stdout",
     "output_type": "stream",
     "text": [
      "enter the file name file2.txt\n",
      "enter the mode of the file r\n",
      "this is 0 line\n",
      "this is 1 line\n",
      "this is 2 line\n",
      "this is 3 line\n",
      "this is 4 line\n",
      "this is 5 line\n",
      "this is 6 line\n",
      "this is 7 line\n",
      "this is 8 line\n",
      "this is 9 line\n",
      "new line 1\n",
      "new line 2\n",
      "\n"
     ]
    }
   ],
   "source": [
    "# function to read the file\n",
    "\n",
    "def fileOperations(filename,mode):\n",
    "   with open(filename,mode) as f:\n",
    "       if f.mode=='r':\n",
    "           data=f.read()\n",
    "           print(data)\n",
    "       elif f.mode=='a':\n",
    "           f.write('data of the file')\n",
    "           print('the data succesfully written')\n",
    "   f.close\n",
    "   return\n",
    "filename=input('enter the file name ')\n",
    "mode=input('enter the mode of the file ')\n",
    "fileOperations(filename,mode)"
   ]
  },
  {
   "cell_type": "code",
   "execution_count": null,
   "metadata": {},
   "outputs": [],
   "source": []
  }
 ],
 "metadata": {
  "kernelspec": {
   "display_name": "Python 3",
   "language": "python",
   "name": "python3"
  },
  "language_info": {
   "codemirror_mode": {
    "name": "ipython",
    "version": 3
   },
   "file_extension": ".py",
   "mimetype": "text/x-python",
   "name": "python",
   "nbconvert_exporter": "python",
   "pygments_lexer": "ipython3",
   "version": "3.7.3"
  }
 },
 "nbformat": 4,
 "nbformat_minor": 2
}
